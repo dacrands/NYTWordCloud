{
 "cells": [
  {
   "cell_type": "code",
   "execution_count": 1,
   "metadata": {
    "collapsed": true
   },
   "outputs": [],
   "source": [
    "import requests\n",
    "import bs4\n",
    "import openpyxl"
   ]
  },
  {
   "cell_type": "code",
   "execution_count": 3,
   "metadata": {
    "collapsed": false
   },
   "outputs": [],
   "source": [
    "res = requests.get('http://rss.nytimes.com/services/xml/rss/nyt/US.xml')\n",
    "res.raise_for_status()"
   ]
  },
  {
   "cell_type": "code",
   "execution_count": 4,
   "metadata": {
    "collapsed": false
   },
   "outputs": [
    {
     "data": {
      "text/plain": [
       "'<?xml version=\"1.0\"?>\\n<rss xmlns:dc=\"http://purl.org/dc/elements/1.1/\" xmlns:media=\"http://search.yahoo.com/mrss/\" xmlns:atom=\"http://www.w3.org/2005/Atom\" xmlns:nyt=\"http://www.nytimes.com/namespaces/rss/2.0\" version=\"2.0\">\\n  <channel>\\n    <title>NYT &gt; U.S.</title>\\n    <link>https://www.nytimes.com/section/us?partner=rss&amp;emc=rss</link>\\n    <atom:link rel=\"self\" type=\"application/rss+xml\" href=\"http://www.nytimes.com/services/xml/rss/nyt/US.xml\"/>\\n    <description/>\\n    <language>en-us</language>\\n    <copyright>Copyright 2017  The New York Times Company</copyright>\\n    <lastBuildDate>Fri, 24 Nov 2017 23:42:32 GMT </lastBuildDate>\\n    <image>\\n      <title>NYT &gt; U.S.</title>\\n      <url>https://static01.nyt.com/images/misc/NYT_logo_rss_250x40.png</url>\\n      <link>https://www.nytimes.com/section/us?partner=rss&amp;emc=rss</link>\\n    </image>\\n    <item>\\n      <title>Does Race Matter in America&#x2019;s Most Diverse ZIP Codes?</title>\\n      <link>https://www.nytimes.com/2017/11/24/us/does-race-matter-in-americas-most-diverse-zip-codes.html?partner=rss&amp;emc=rss</link>\\n      <guid isPermaLink=\"true\">https://www.nytimes.com/2017/11/24/us/does-race-matter-in-americas-most-diverse-zip-codes.html</guid>\\n      <atom:link rel=\"standout\" href=\"https://www.nytimes.com/2017/11/24/us/does-race-matter-in-americas-most-diverse-zip-codes.html?partner=rss&amp;emc=rss\"/>\\n      <media:content url=\"https://static01.nyt.com/images/2017/11/24/us/24vallejo3/24vallejo3-moth-v2.jpg\" medium=\"image\" height=\"151\" width=\"151\"/>\\n      <media:description>Darryl Johnson, center, and his wife, Marissa Johnson, with their daughter Sienna at their restaurant in Vallejo, Calif. The city is one of the most racially balanced in the United States.</media:description>\\n      <media:credit>Jim Wilson/The New York Times</media:credit>\\n      <description>Vallejo, Calif., is the rare city where no one ethnic group predominates. But stubborn disparities endure.</description>\\n      <dc:creator>JOHN ELIGON</dc:creator>\\n      <pubDate>Fri, 24 Nov 2017 07:59:24 GMT</pubDate>\\n      <category domain=\"http://www.nytimes.com/namespaces/keywords/nyt_geo\">Vallejo (Calif)</category>\\n      <category domain=\"http://www.nytimes.com/namespaces/keywords/mdes\">Discrimination</category>\\n      <category domain=\"http://www.nytimes.com/namespaces/keywords/mdes\">Minorities</category>\\n      <category domain=\"http://www.nytimes.com/namespaces/keywords/des\">Blacks</category>\\n      <category domain=\"http://www.nytimes.com/namespaces/keywords/des\">Whites</category>\\n      <category domain=\"http://www.nytimes.com/namespaces/keywords/mdes\">Hispanic-Americans</category>\\n      <category domain=\"http://www.nytimes.com/namespaces/keywords/des\">Asian-Americans</category>\\n    </item>\\n    <item>\\n      <title>&#x2018;Nothing Against You&#x2019;: For a Black Man Covering Race, the Story Is Never Far From Home</title>\\n      <link>https://www.nytimes.com/2017/11/24/us/insider-vallejo-diverse.html?partner=rss&amp;emc=rss</link>\\n      <guid isPermaLink=\"true\">https://www.nytimes.com/2017/11/24/us/insider-vallejo-diverse.html</guid>\\n      <atom:link rel=\"standout\" href=\"https://www.nytimes.com/2017/11/24/us/insider-vallejo-diverse.html?partner=rss&amp;emc=rss\"/>\\n      <media:content url=\"https://static01.nyt.com/images/2017/11/25/insider/insider-vallejo-image/insider-vallejo-image-moth.jpg\" medium=\"image\" height=\"151\" width=\"151\"/>\\n      <media:description>The Joy of Eating diner in Vallejo, Calif.</media:description>\\n      <media:credit>Jim Wilson/The New York Times</media:credit>\\n      <description>Being surrounded by racial diversity, my conversation in a California diner suggested, can make people feel more comfortable with biases and stereotypes.</description>\\n      <dc:creator>JOHN ELIGON</dc:creator>\\n      <pubDate>Fri, 24 Nov 2017 15:54:31 GMT</pubDate>\\n      <category domain=\"http://www.nytimes.com/namespaces/keywords/nyt_geo\">Vallejo (Calif)</category>\\n      <category domain=\"http://www.nytimes.com/namespaces/keywords/des\">Discrimination</category>\\n      <category domain=\"http://www.nytimes.com/namespaces/keywords/des\">Blacks</category>\\n      <category domain=\"http://www.nytimes.com/namespaces/keywords/des\">Hispanic-Americans</category>\\n      <category domain=\"http://www.nytimes.com/namespaces/keywords/des\">Asian-Americans</category>\\n      <category domain=\"http://www.nytimes.com/namespaces/keywords/des\">Race and Ethnicity</category>\\n      <category domain=\"http://www.nytimes.com/namespaces/keywords/nyt_keyword\">Diversity</category>\\n    </item>\\n    <item>\\n      <title>Miles From Flint, Residents Turn Off Taps in New Water Crisis</title>\\n      <link>https://www.nytimes.com/2017/11/24/us/michigan-water-wolverine-contamination.html?partner=rss&amp;emc=rss</link>\\n      <guid isPermaLink=\"true\">https://www.nytimes.com/2017/11/24/us/michigan-water-wolverine-contamination.html</guid>\\n      <atom:link rel=\"standout\" href=\"https://www.nytimes.com/2017/11/24/us/michigan-water-wolverine-contamination.html?partner=rss&amp;emc=rss\"/>\\n      <media:content url=\"https://static01.nyt.com/images/2017/11/25/us/25michigan1/25michigan1-moth.jpg\" medium=\"image\" height=\"151\" width=\"151\"/>\\n      <media:description>Leah Fisher, 3, looked at bottled water provided by Wolverine Worldwide after tests showed that an old leather scrap dumpsite had tainted drinking water.</media:description>\\n      <media:credit>Alyssa Schukar for The New York Times</media:credit>\\n      <description>Waste from a shoe factory has tainted groundwater in a Grand Rapids suburb. Some residents are skeptical of Michigan officials, who botched the response in Flint.</description>\\n      <dc:creator>MITCH SMITH</dc:creator>\\n      <pubDate>Fri, 24 Nov 2017 23:00:37 GMT</pubDate>\\n      <category domain=\"http://www.nytimes.com/namespaces/keywords/des\">Water Pollution</category>\\n      <category domain=\"http://www.nytimes.com/namespaces/keywords/nyt_org_all\">Wolverine Worldwide Inc</category>\\n      <category domain=\"http://www.nytimes.com/namespaces/keywords/nyt_geo\">Michigan</category>\\n      <category domain=\"http://www.nytimes.com/namespaces/keywords/mdes\">Waste Materials and Disposal</category>\\n    </item>\\n    <item>\\n      <title>A Photo of Billy the Kid Bought for $10 at a Flea Market May Be Worth Millions</title>\\n      <link>https://www.nytimes.com/2017/11/16/us/billy-the-kid-photo.html?partner=rss&amp;emc=rss</link>\\n      <guid isPermaLink=\"true\">https://www.nytimes.com/2017/11/16/us/billy-the-kid-photo.html</guid>\\n      <atom:link rel=\"standout\" href=\"https://www.nytimes.com/2017/11/16/us/billy-the-kid-photo.html?partner=rss&amp;emc=rss\"/>\\n      <media:content url=\"https://static01.nyt.com/images/2017/11/17/us/17xp-billythekid1/16xp-billythekid1-moth.jpg\" medium=\"image\" height=\"151\" width=\"151\"/>\\n      <media:description>This tintype shows what historians believe is a photo of outlaw Billy the Kid, second from left, and Pat Garrett, far right, taken in 1880.</media:description>\\n      <media:credit>via Frank Abrams</media:credit>\\n      <description>Experts say it&#x2019;s a rare, valuable tintype of the famous outlaw, with Pat Garrett, the man who later killed him.</description>\\n      <dc:creator>JACEY FORTIN</dc:creator>\\n      <pubDate>Thu, 16 Nov 2017 17:39:04 GMT</pubDate>\\n      <category domain=\"http://www.nytimes.com/namespaces/keywords/nyt_per\">Bonney, William</category>\\n      <category domain=\"http://www.nytimes.com/namespaces/keywords/des\">Photography</category>\\n      <category domain=\"http://www.nytimes.com/namespaces/keywords/nyt_geo\">North Carolina</category>\\n      <category domain=\"http://www.nytimes.com/namespaces/keywords/des\">Flea Markets</category>\\n      <category domain=\"http://www.nytimes.com/namespaces/keywords/des\">Murders, Attempted Murders and Homicides</category>\\n      <category domain=\"http://www.nytimes.com/namespaces/keywords/nyt_geo\">New Mexico</category>\\n    </item>\\n    <item>\\n      <title>Ben Shapiro, a Provocative &#x2018;Gladiator,&#x2019; Battles to Win Young Conservatives</title>\\n      <link>https://www.nytimes.com/2017/11/23/us/ben-shapiro-conservative.html?partner=rss&amp;emc=rss</link>\\n      <guid isPermaLink=\"true\">https://www.nytimes.com/2017/11/23/us/ben-shapiro-conservative.html</guid>\\n      <atom:link rel=\"standout\" href=\"https://www.nytimes.com/2017/11/23/us/ben-shapiro-conservative.html?partner=rss&amp;emc=rss\"/>\\n      <media:content url=\"https://static01.nyt.com/images/2017/11/24/us/24shapiro1/00shapiro-01-moth.jpg\" medium=\"image\" height=\"151\" width=\"151\"/>\\n      <media:description>Ben Shapiro, right, arrived at the University of Utah in September to give a talk for a conservative student group.</media:description>\\n      <media:credit>Pool photo by Leah Hogsten</media:credit>\\n      <description>Ben Shapiro, who has been called the voice of the conservative millennial movement, is trying to define conservatism at a time when its meaning is up for grabs.</description>\\n      <dc:creator>SABRINA TAVERNISE</dc:creator>\\n      <pubDate>Fri, 24 Nov 2017 14:40:08 GMT</pubDate>\\n      <category domain=\"http://www.nytimes.com/namespaces/keywords/nyt_per\">Shapiro, Benjamin A (1984- )</category>\\n      <category domain=\"http://www.nytimes.com/namespaces/keywords/nyt_org_all\">The Daily Wire</category>\\n      <category domain=\"http://www.nytimes.com/namespaces/keywords/des\">Conservatism (US Politics)</category>\\n      <category domain=\"http://www.nytimes.com/namespaces/keywords/mdes\">Millennial Generation</category>\\n      <category domain=\"http://www.nytimes.com/namespaces/keywords/nyt_per\">Bannon, Stephen K</category>\\n      <category domain=\"http://www.nytimes.com/namespaces/keywords/nyt_per\">Yiannopoulos, Milo</category>\\n      <category domain=\"http://www.nytimes.com/namespaces/keywords/des\">United States Politics and Government</category>\\n    </item>\\n    <item>\\n      <title>Thanksgiving for Native Americans: Four Voices on a Complicated Holiday</title>\\n      <link>https://www.nytimes.com/2017/11/23/us/thanksgiving-for-native-americans-four-voices-on-a-complicated-holiday.html?partner=rss&amp;emc=rss</link>\\n      <guid isPermaLink=\"true\">https://www.nytimes.com/2017/11/23/us/thanksgiving-for-native-americans-four-voices-on-a-complicated-holiday.html</guid>\\n      <atom:link rel=\"standout\" href=\"https://www.nytimes.com/2017/11/23/us/thanksgiving-for-native-americans-four-voices-on-a-complicated-holiday.html?partner=rss&amp;emc=rss\"/>\\n      <media:content url=\"https://static01.nyt.com/images/2017/11/23/us/23native/23native-moth.jpg\" medium=\"image\" height=\"151\" width=\"151\"/>\\n      <media:description>Sherman Alexie in Seattle. &#x201C;You take the holiday and make it yours,&#x201D; he said of Thanksgiving. &#x201C;That doesn&#x2019;t strip it of its original meaning or its context.&#x201D;</media:description>\\n      <media:credit>Ian C. Bates for The New York Times</media:credit>\\n      <description>A day of celebration and overeating is for some a time of mourning and a testament to the strength of a culture.</description>\\n      <dc:creator>JULIE TURKEWITZ</dc:creator>\\n      <pubDate>Thu, 23 Nov 2017 10:00:24 GMT</pubDate>\\n      <category domain=\"http://www.nytimes.com/namespaces/keywords/des\">Native Americans</category>\\n      <category domain=\"http://www.nytimes.com/namespaces/keywords/des\">Thanksgiving Day</category>\\n      <category domain=\"http://www.nytimes.com/namespaces/keywords/nyt_per\">Alexie, Sherman</category>\\n      <category domain=\"http://www.nytimes.com/namespaces/keywords/nyt_per\">LaDuke, Winona</category>\\n      <category domain=\"http://www.nytimes.com/namespaces/keywords/nyt_per\">Keeler, Jacqueline</category>\\n      <category domain=\"http://www.nytimes.com/namespaces/keywords/nyt_per\">Moya-Smith, Simon</category>\\n    </item>\\n    <item>\\n      <title>What Is Net Neutrality?</title>\\n      <link>https://www.nytimes.com/video/us/100000005564560/what-is-net-neutrality.html?partner=rss&amp;emc=rss</link>\\n      <guid isPermaLink=\"true\">https://www.nytimes.com/video/us/100000005564560/what-is-net-neutrality.html</guid>\\n      <description>The F.C.C. is set to dismantle net neutrality rules that require internet providers to give consumers equal access to all content online. Here&#x2019;s how net neutrality works.</description>\\n      <dc:creator/>\\n      <pubDate>Tue, 21 Nov 2017 19:18:56 GMT</pubDate>\\n      <category domain=\"http://www.nytimes.com/namespaces/des\">Net Neutrality</category>\\n      <category domain=\"http://www.nytimes.com/namespaces/des\">Computers and the Internet</category>\\n      <category domain=\"http://www.nytimes.com/namespaces/nyt_org_all\">Federal Communications Commission</category>\\n    </item>\\n    <item>\\n      <title>After &#x2018;So Much Sadness,&#x2019; What Is There to Be Thankful For?</title>\\n      <link>https://www.nytimes.com/2017/11/22/us/sutherland-springs-vegas-shooting-hurricanes.html?partner=rss&amp;emc=rss</link>\\n      <guid isPermaLink=\"true\">https://www.nytimes.com/2017/11/22/us/sutherland-springs-vegas-shooting-hurricanes.html</guid>\\n      <atom:link rel=\"standout\" href=\"https://www.nytimes.com/2017/11/22/us/sutherland-springs-vegas-shooting-hurricanes.html?partner=rss&amp;emc=rss\"/>\\n      <media:content url=\"https://static01.nyt.com/images/2017/11/22/us/22thankful1/22thankful1-moth.jpg\" medium=\"image\" height=\"151\" width=\"151\"/>\\n      <media:description>Sisters displaced during Hurricane Harvey drew pictures at their temporary home in Texas.</media:description>\\n      <media:credit>Annie Mulligan for The New York Times</media:credit>\\n      <description>For many families across an America battered by wildfires, hurricanes and mass shootings, this Thanksgiving is the first major holiday since life was ripped apart.</description>\\n      <dc:creator>JACK HEALY and JULIE TURKEWITZ</dc:creator>\\n      <pubDate>Wed, 22 Nov 2017 16:58:48 GMT</pubDate>\\n      <category domain=\"http://www.nytimes.com/namespaces/keywords/des\">Thanksgiving Day</category>\\n      <category domain=\"http://www.nytimes.com/namespaces/keywords/mdes\">Sutherland Springs, Tex, Shooting (2017)</category>\\n      <category domain=\"http://www.nytimes.com/namespaces/keywords/des\">Las Vegas, Nev, Shooting (October, 2017)</category>\\n      <category domain=\"http://www.nytimes.com/namespaces/keywords/mdes\">Hurricane Maria (2017)</category>\\n      <category domain=\"http://www.nytimes.com/namespaces/keywords/mdes\">Puerto Ricans</category>\\n      <category domain=\"http://www.nytimes.com/namespaces/keywords/des\">Hurricane Harvey (2017)</category>\\n      <category domain=\"http://www.nytimes.com/namespaces/keywords/mdes\">Wildfires</category>\\n    </item>\\n    <item>\\n      <title>Egypt, Michael Flynn, Argentina: Your Evening Briefing</title>\\n      <link>https://www.nytimes.com/2017/11/24/briefing/your-evening-briefing-egypt-michael-flynn-argentina.html?partner=rss&amp;emc=rss</link>\\n      <guid isPermaLink=\"true\">https://www.nytimes.com/2017/11/24/briefing/your-evening-briefing-egypt-michael-flynn-argentina.html</guid>\\n      <atom:link rel=\"standout\" href=\"https://www.nytimes.com/2017/11/24/briefing/your-evening-briefing-egypt-michael-flynn-argentina.html?partner=rss&amp;emc=rss\"/>\\n      <media:content url=\"https://static01.nyt.com/images/2017/11/24/briefing/24evening-ss-slide-M85I/24evening-ss-slide-M85I-moth.jpg\" medium=\"image\" height=\"151\" width=\"151\"/>\\n      <media:description/>\\n      <media:credit>European Pressphoto Agency</media:credit>\\n      <description>Here&#x2019;s what you need to know at the end of the day.</description>\\n      <dc:creator>PENN BULLOCK and SANDRA STEVENSON</dc:creator>\\n      <pubDate>Fri, 24 Nov 2017 23:37:39 GMT</pubDate>\\n    </item>\\n    <item>\\n      <title>Why &#x2018;Made in America&#x2019; Is Stitched Into the Law, but Not the Uniforms</title>\\n      <link>https://www.nytimes.com/2017/11/24/us/politics/secret-service-uniforms-mexico-trump-trade.html?partner=rss&amp;emc=rss</link>\\n      <guid isPermaLink=\"true\">https://www.nytimes.com/2017/11/24/us/politics/secret-service-uniforms-mexico-trump-trade.html</guid>\\n      <atom:link rel=\"standout\" href=\"https://www.nytimes.com/2017/11/24/us/politics/secret-service-uniforms-mexico-trump-trade.html?partner=rss&amp;emc=rss\"/>\\n      <media:content url=\"https://static01.nyt.com/images/2017/11/25/business/25DC-UNIFORM1/25DC-UNIFORM1-moth.jpg\" medium=\"image\" height=\"151\" width=\"151\"/>\\n      <media:description>More Transportation Security Administration uniforms have been made in Mexico in recent years than in the United States, despite rules requiring the Department of Homeland Security to &#x201C;buy American.&#x201D;</media:description>\\n      <media:credit>David Mcnew/Getty Images</media:credit>\\n      <description>The case of Secret Service and other federal uniforms shows just how difficult President Trump&#x2019;s push to &#x201C;buy American&#x201D; is to implement in an age of global trade.</description>\\n      <dc:creator>ANA SWANSON</dc:creator>\\n      <pubDate>Fri, 24 Nov 2017 20:06:49 GMT</pubDate>\\n      <category domain=\"http://www.nytimes.com/namespaces/keywords/des\">United States Politics and Government</category>\\n      <category domain=\"http://www.nytimes.com/namespaces/keywords/des\">Government Contracts and Procurement</category>\\n      <category domain=\"http://www.nytimes.com/namespaces/keywords/mdes\">Uniforms</category>\\n      <category domain=\"http://www.nytimes.com/namespaces/keywords/nyt_per\">Trump, Donald J</category>\\n      <category domain=\"http://www.nytimes.com/namespaces/keywords/nyt_org_all\">Secret Service</category>\\n      <category domain=\"http://www.nytimes.com/namespaces/keywords/mdes\">Executive Orders and Memorandums</category>\\n      <category domain=\"http://www.nytimes.com/namespaces/keywords/nyt_org_all\">Homeland Security Department</category>\\n    </item>\\n    <item>\\n      <title>Hacks That Help: Using Tech to Fight Child Exploitation</title>\\n      <link>https://www.nytimes.com/2017/11/24/style/sex-trafficking-hackathon.html?partner=rss&amp;emc=rss</link>\\n      <guid isPermaLink=\"true\">https://www.nytimes.com/2017/11/24/style/sex-trafficking-hackathon.html</guid>\\n      <atom:link rel=\"standout\" href=\"https://www.nytimes.com/2017/11/24/style/sex-trafficking-hackathon.html?partner=rss&amp;emc=rss\"/>\\n      <media:content url=\"https://static01.nyt.com/images/2017/11/26/fashion/26HACKATHON-1/26HACKATHON-1-moth.jpg\" medium=\"image\" height=\"151\" width=\"151\"/>\\n      <media:description>Ashton Kutcher at the Thorn hackathon in New York.</media:description>\\n      <media:credit>Danny Ghitis for The New York Times</media:credit>\\n      <description>Thorn, a nonprofit founded by Demi Moore and Ashton Kutcher, helps law enforcement agencies sort through sex listings.</description>\\n      <dc:creator>TARIRO MZEZEWA</dc:creator>\\n      <pubDate>Fri, 24 Nov 2017 19:27:41 GMT</pubDate>\\n      <category domain=\"http://www.nytimes.com/namespaces/keywords/des\">Child Abuse and Neglect</category>\\n      <category domain=\"http://www.nytimes.com/namespaces/keywords/des\">Human Trafficking</category>\\n      <category domain=\"http://www.nytimes.com/namespaces/keywords/nyt_per\">Kutcher, Ashton</category>\\n      <category domain=\"http://www.nytimes.com/namespaces/keywords/des\">Computers and the Internet</category>\\n    </item>\\n    <item>\\n      <title> The New Old Age: Older Voters Stymied by Tighter ID Requirements</title>\\n      <link>https://www.nytimes.com/2017/11/24/health/voting-eligibility-elderly.html?partner=rss&amp;emc=rss</link>\\n      <guid isPermaLink=\"true\">https://www.nytimes.com/2017/11/24/health/voting-eligibility-elderly.html</guid>\\n      <atom:link rel=\"standout\" href=\"https://www.nytimes.com/2017/11/24/health/voting-eligibility-elderly.html?partner=rss&amp;emc=rss\"/>\\n      <media:content url=\"https://static01.nyt.com/images/2017/11/28/health/28SCI-SPAN/28SCI-SPAN-moth-v2.jpg\" medium=\"image\" height=\"151\" width=\"151\"/>\\n      <media:description/>\\n      <media:credit>Joyce Hesselberth</media:credit>\\n      <description>Restrictive eligibility rules have kept older citizens from the voting booth, experts say.</description>\\n      <dc:creator>PAULA SPAN</dc:creator>\\n      <pubDate>Fri, 24 Nov 2017 18:52:38 GMT</pubDate>\\n      <category domain=\"http://www.nytimes.com/namespaces/keywords/des\">Voter Registration and Requirements</category>\\n      <category domain=\"http://www.nytimes.com/namespaces/keywords/des\">Drivers Licenses</category>\\n      <category domain=\"http://www.nytimes.com/namespaces/keywords/des\">Voting Rights Act (1965)</category>\\n      <category domain=\"http://www.nytimes.com/namespaces/keywords/des\">Elderly</category>\\n      <category domain=\"http://www.nytimes.com/namespaces/keywords/mdes\">United States Politics and Government</category>\\n      <category domain=\"http://www.nytimes.com/namespaces/keywords/nyt_org_all\">Brennan Center for Justice</category>\\n    </item>\\n    <item>\\n      <title>Six Democrats From Outside Washington Have a Message for Their Party</title>\\n      <link>https://www.nytimes.com/2017/11/24/us/politics/democratic-party.html?partner=rss&amp;emc=rss</link>\\n      <guid isPermaLink=\"true\">https://www.nytimes.com/2017/11/24/us/politics/democratic-party.html</guid>\\n      <atom:link rel=\"standout\" href=\"https://www.nytimes.com/2017/11/24/us/politics/democratic-party.html?partner=rss&amp;emc=rss\"/>\\n      <media:content url=\"https://static01.nyt.com/images/2017/11/19/us/politics/19dc-demvoices-promo/19dc-demvoices-promo-moth.jpg\" medium=\"image\" height=\"151\" width=\"151\"/>\\n      <media:description/>\\n      <media:credit>Dominick Reuter/Reuters</media:credit>\\n      <description>We looked outside the nation&#x2019;s capital to ask leaders in states and cities to offer their vision for reconnecting with voters.</description>\\n      <dc:creator>MICHAEL TACKETT</dc:creator>\\n      <pubDate>Fri, 24 Nov 2017 13:22:34 GMT</pubDate>\\n      <category domain=\"http://www.nytimes.com/namespaces/keywords/mdes\">United States Politics and Government</category>\\n      <category domain=\"http://www.nytimes.com/namespaces/keywords/nyt_org_all\">Democratic Party</category>\\n    </item>\\n    <item>\\n      <title>Michael Flynn, Oscar Pistorius, Black Friday: Your Friday Briefing</title>\\n      <link>https://www.nytimes.com/2017/11/24/briefing/michael-flynn-oscar-pistorius-black-friday.html?partner=rss&amp;emc=rss</link>\\n      <guid isPermaLink=\"true\">https://www.nytimes.com/2017/11/24/briefing/michael-flynn-oscar-pistorius-black-friday.html</guid>\\n      <atom:link rel=\"standout\" href=\"https://www.nytimes.com/2017/11/24/briefing/michael-flynn-oscar-pistorius-black-friday.html?partner=rss&amp;emc=rss\"/>\\n      <media:content url=\"https://static01.nyt.com/images/2017/11/25/world/24US-Ambriefing-blackfriday/24US-Ambriefing-blackfriday-moth.jpg\" medium=\"image\" height=\"151\" width=\"151\"/>\\n      <media:description>Black Friday has become a phenomenon even in countries not marking a Thanksgiving holiday. These shoppers were competing to purchase television sets in S&#xE3;o Paulo, Brazil.</media:description>\\n      <media:credit>Paulo Whitaker/Reuters</media:credit>\\n      <description>Here&#x2019;s what you need to know to start your day.</description>\\n      <dc:creator>CHRIS STANFORD</dc:creator>\\n      <pubDate>Fri, 24 Nov 2017 16:37:06 GMT</pubDate>\\n    </item>\\n    <item>\\n      <title>Why Tobacco Companies Are Paying to Tell You Smoking Kills</title>\\n      <link>https://www.nytimes.com/2017/11/24/business/media/tobacco-companies-ads.html?partner=rss&amp;emc=rss</link>\\n      <guid isPermaLink=\"true\">https://www.nytimes.com/2017/11/24/business/media/tobacco-companies-ads.html</guid>\\n      <atom:link rel=\"standout\" href=\"https://www.nytimes.com/2017/11/24/business/media/tobacco-companies-ads.html?partner=rss&amp;emc=rss\"/>\\n      <media:content url=\"https://static01.nyt.com/images/2017/11/25/business/25TOBACCOADS1/25TOBACCOADS1-moth.jpg\" medium=\"image\" height=\"151\" width=\"151\"/>\\n      <media:description>A billboard ad for Marlboro cigarettes in Atlanta in 1995. Tobacco companies were ordered in 2006 to disseminate &#x201C;corrective statements&#x201D; about the health risks and addictive nature of smoking.</media:description>\\n      <media:credit>Richard Baker/Getty Images</media:credit>\\n      <description>Court-ordered ads, which will start appearing on Sunday, are &#x201C;corrective statements&#x201D; about the health risks and addictive nature of smoking.</description>\\n      <dc:creator>SAPNA MAHESHWARI</dc:creator>\\n      <pubDate>Fri, 24 Nov 2017 10:00:01 GMT</pubDate>\\n      <category domain=\"http://www.nytimes.com/namespaces/keywords/des\">Smoking and Tobacco</category>\\n      <category domain=\"http://www.nytimes.com/namespaces/keywords/des\">Advertising and Marketing</category>\\n      <category domain=\"http://www.nytimes.com/namespaces/keywords/nyt_org_all\">Altria Group Inc</category>\\n      <category domain=\"http://www.nytimes.com/namespaces/keywords/nyt_org_all\">Philip Morris Companies Inc</category>\\n      <category domain=\"http://www.nytimes.com/namespaces/keywords/nyt_org_all\">Reynolds, R J, Tobacco Co</category>\\n      <category domain=\"http://www.nytimes.com/namespaces/keywords/nyt_org_all\">Lorillard Tobacco Co</category>\\n    </item>\\n    <item>\\n      <title>A Mar-a-Lago Thanksgiving: It&#x2019;s All Gravy</title>\\n      <link>https://www.nytimes.com/2017/11/23/us/politics/trump-mar-a-lago-thanksgiving.html?partner=rss&amp;emc=rss</link>\\n      <guid isPermaLink=\"true\">https://www.nytimes.com/2017/11/23/us/politics/trump-mar-a-lago-thanksgiving.html</guid>\\n      <atom:link rel=\"standout\" href=\"https://www.nytimes.com/2017/11/23/us/politics/trump-mar-a-lago-thanksgiving.html?partner=rss&amp;emc=rss\"/>\\n      <media:content url=\"https://static01.nyt.com/images/2017/11/24/us/24dc-thanksgiving/24dc-thanksgiving-moth.jpg\" medium=\"image\" height=\"151\" width=\"151\"/>\\n      <media:description>President Trump passed out sandwiches to members of the Coast Guard in Riviera Beach, Fla., on Thursday.</media:description>\\n      <media:credit>Al Drago for The New York Times</media:credit>\\n      <description>President Trump spent his holiday indulging in some of his favorite habits: spending time at his properties and talking about all the winning he&#x2019;s doing.</description>\\n      <dc:creator>EMILY COCHRANE</dc:creator>\\n      <pubDate>Fri, 24 Nov 2017 01:36:01 GMT</pubDate>\\n      <category domain=\"http://www.nytimes.com/namespaces/keywords/nyt_per\">Trump, Donald J</category>\\n      <category domain=\"http://www.nytimes.com/namespaces/keywords/des\">Thanksgiving Day</category>\\n      <category domain=\"http://www.nytimes.com/namespaces/keywords/nyt_org_all\">Mar-a-Lago (Palm Beach, Fla)</category>\\n      <category domain=\"http://www.nytimes.com/namespaces/keywords/des\">United States Defense and Military Forces</category>\\n      <category domain=\"http://www.nytimes.com/namespaces/keywords/des\">United States Politics and Government</category>\\n    </item>\\n  </channel>\\n</rss>\\n'"
      ]
     },
     "execution_count": 4,
     "metadata": {},
     "output_type": "execute_result"
    }
   ],
   "source": [
    "res.text"
   ]
  },
  {
   "cell_type": "code",
   "execution_count": 7,
   "metadata": {
    "collapsed": false
   },
   "outputs": [],
   "source": [
    "soup = bs4.BeautifulSoup(res.text, 'xml')"
   ]
  },
  {
   "cell_type": "code",
   "execution_count": 8,
   "metadata": {
    "collapsed": false
   },
   "outputs": [
    {
     "data": {
      "text/plain": [
       "<?xml version=\"1.0\" encoding=\"utf-8\"?>\n",
       "<rss version=\"2.0\" xmlns:atom=\"http://www.w3.org/2005/Atom\" xmlns:dc=\"http://purl.org/dc/elements/1.1/\" xmlns:media=\"http://search.yahoo.com/mrss/\" xmlns:nyt=\"http://www.nytimes.com/namespaces/rss/2.0\">\n",
       "<channel>\n",
       "<title>NYT &gt; U.S.</title>\n",
       "<link>https://www.nytimes.com/section/us?partner=rss&amp;emc=rss</link>\n",
       "<atom:link href=\"http://www.nytimes.com/services/xml/rss/nyt/US.xml\" rel=\"self\" type=\"application/rss+xml\"/>\n",
       "<description/>\n",
       "<language>en-us</language>\n",
       "<copyright>Copyright 2017  The New York Times Company</copyright>\n",
       "<lastBuildDate>Fri, 24 Nov 2017 23:42:32 GMT </lastBuildDate>\n",
       "<image>\n",
       "<title>NYT &gt; U.S.</title>\n",
       "<url>https://static01.nyt.com/images/misc/NYT_logo_rss_250x40.png</url>\n",
       "<link>https://www.nytimes.com/section/us?partner=rss&amp;emc=rss</link>\n",
       "</image>\n",
       "<item>\n",
       "<title>Does Race Matter in America’s Most Diverse ZIP Codes?</title>\n",
       "<link>https://www.nytimes.com/2017/11/24/us/does-race-matter-in-americas-most-diverse-zip-codes.html?partner=rss&amp;emc=rss</link>\n",
       "<guid isPermaLink=\"true\">https://www.nytimes.com/2017/11/24/us/does-race-matter-in-americas-most-diverse-zip-codes.html</guid>\n",
       "<atom:link href=\"https://www.nytimes.com/2017/11/24/us/does-race-matter-in-americas-most-diverse-zip-codes.html?partner=rss&amp;emc=rss\" rel=\"standout\"/>\n",
       "<media:content height=\"151\" medium=\"image\" url=\"https://static01.nyt.com/images/2017/11/24/us/24vallejo3/24vallejo3-moth-v2.jpg\" width=\"151\"/>\n",
       "<media:description>Darryl Johnson, center, and his wife, Marissa Johnson, with their daughter Sienna at their restaurant in Vallejo, Calif. The city is one of the most racially balanced in the United States.</media:description>\n",
       "<media:credit>Jim Wilson/The New York Times</media:credit>\n",
       "<description>Vallejo, Calif., is the rare city where no one ethnic group predominates. But stubborn disparities endure.</description>\n",
       "<dc:creator>JOHN ELIGON</dc:creator>\n",
       "<pubDate>Fri, 24 Nov 2017 07:59:24 GMT</pubDate>\n",
       "<category domain=\"http://www.nytimes.com/namespaces/keywords/nyt_geo\">Vallejo (Calif)</category>\n",
       "<category domain=\"http://www.nytimes.com/namespaces/keywords/mdes\">Discrimination</category>\n",
       "<category domain=\"http://www.nytimes.com/namespaces/keywords/mdes\">Minorities</category>\n",
       "<category domain=\"http://www.nytimes.com/namespaces/keywords/des\">Blacks</category>\n",
       "<category domain=\"http://www.nytimes.com/namespaces/keywords/des\">Whites</category>\n",
       "<category domain=\"http://www.nytimes.com/namespaces/keywords/mdes\">Hispanic-Americans</category>\n",
       "<category domain=\"http://www.nytimes.com/namespaces/keywords/des\">Asian-Americans</category>\n",
       "</item>\n",
       "<item>\n",
       "<title>‘Nothing Against You’: For a Black Man Covering Race, the Story Is Never Far From Home</title>\n",
       "<link>https://www.nytimes.com/2017/11/24/us/insider-vallejo-diverse.html?partner=rss&amp;emc=rss</link>\n",
       "<guid isPermaLink=\"true\">https://www.nytimes.com/2017/11/24/us/insider-vallejo-diverse.html</guid>\n",
       "<atom:link href=\"https://www.nytimes.com/2017/11/24/us/insider-vallejo-diverse.html?partner=rss&amp;emc=rss\" rel=\"standout\"/>\n",
       "<media:content height=\"151\" medium=\"image\" url=\"https://static01.nyt.com/images/2017/11/25/insider/insider-vallejo-image/insider-vallejo-image-moth.jpg\" width=\"151\"/>\n",
       "<media:description>The Joy of Eating diner in Vallejo, Calif.</media:description>\n",
       "<media:credit>Jim Wilson/The New York Times</media:credit>\n",
       "<description>Being surrounded by racial diversity, my conversation in a California diner suggested, can make people feel more comfortable with biases and stereotypes.</description>\n",
       "<dc:creator>JOHN ELIGON</dc:creator>\n",
       "<pubDate>Fri, 24 Nov 2017 15:54:31 GMT</pubDate>\n",
       "<category domain=\"http://www.nytimes.com/namespaces/keywords/nyt_geo\">Vallejo (Calif)</category>\n",
       "<category domain=\"http://www.nytimes.com/namespaces/keywords/des\">Discrimination</category>\n",
       "<category domain=\"http://www.nytimes.com/namespaces/keywords/des\">Blacks</category>\n",
       "<category domain=\"http://www.nytimes.com/namespaces/keywords/des\">Hispanic-Americans</category>\n",
       "<category domain=\"http://www.nytimes.com/namespaces/keywords/des\">Asian-Americans</category>\n",
       "<category domain=\"http://www.nytimes.com/namespaces/keywords/des\">Race and Ethnicity</category>\n",
       "<category domain=\"http://www.nytimes.com/namespaces/keywords/nyt_keyword\">Diversity</category>\n",
       "</item>\n",
       "<item>\n",
       "<title>Miles From Flint, Residents Turn Off Taps in New Water Crisis</title>\n",
       "<link>https://www.nytimes.com/2017/11/24/us/michigan-water-wolverine-contamination.html?partner=rss&amp;emc=rss</link>\n",
       "<guid isPermaLink=\"true\">https://www.nytimes.com/2017/11/24/us/michigan-water-wolverine-contamination.html</guid>\n",
       "<atom:link href=\"https://www.nytimes.com/2017/11/24/us/michigan-water-wolverine-contamination.html?partner=rss&amp;emc=rss\" rel=\"standout\"/>\n",
       "<media:content height=\"151\" medium=\"image\" url=\"https://static01.nyt.com/images/2017/11/25/us/25michigan1/25michigan1-moth.jpg\" width=\"151\"/>\n",
       "<media:description>Leah Fisher, 3, looked at bottled water provided by Wolverine Worldwide after tests showed that an old leather scrap dumpsite had tainted drinking water.</media:description>\n",
       "<media:credit>Alyssa Schukar for The New York Times</media:credit>\n",
       "<description>Waste from a shoe factory has tainted groundwater in a Grand Rapids suburb. Some residents are skeptical of Michigan officials, who botched the response in Flint.</description>\n",
       "<dc:creator>MITCH SMITH</dc:creator>\n",
       "<pubDate>Fri, 24 Nov 2017 23:00:37 GMT</pubDate>\n",
       "<category domain=\"http://www.nytimes.com/namespaces/keywords/des\">Water Pollution</category>\n",
       "<category domain=\"http://www.nytimes.com/namespaces/keywords/nyt_org_all\">Wolverine Worldwide Inc</category>\n",
       "<category domain=\"http://www.nytimes.com/namespaces/keywords/nyt_geo\">Michigan</category>\n",
       "<category domain=\"http://www.nytimes.com/namespaces/keywords/mdes\">Waste Materials and Disposal</category>\n",
       "</item>\n",
       "<item>\n",
       "<title>A Photo of Billy the Kid Bought for $10 at a Flea Market May Be Worth Millions</title>\n",
       "<link>https://www.nytimes.com/2017/11/16/us/billy-the-kid-photo.html?partner=rss&amp;emc=rss</link>\n",
       "<guid isPermaLink=\"true\">https://www.nytimes.com/2017/11/16/us/billy-the-kid-photo.html</guid>\n",
       "<atom:link href=\"https://www.nytimes.com/2017/11/16/us/billy-the-kid-photo.html?partner=rss&amp;emc=rss\" rel=\"standout\"/>\n",
       "<media:content height=\"151\" medium=\"image\" url=\"https://static01.nyt.com/images/2017/11/17/us/17xp-billythekid1/16xp-billythekid1-moth.jpg\" width=\"151\"/>\n",
       "<media:description>This tintype shows what historians believe is a photo of outlaw Billy the Kid, second from left, and Pat Garrett, far right, taken in 1880.</media:description>\n",
       "<media:credit>via Frank Abrams</media:credit>\n",
       "<description>Experts say it’s a rare, valuable tintype of the famous outlaw, with Pat Garrett, the man who later killed him.</description>\n",
       "<dc:creator>JACEY FORTIN</dc:creator>\n",
       "<pubDate>Thu, 16 Nov 2017 17:39:04 GMT</pubDate>\n",
       "<category domain=\"http://www.nytimes.com/namespaces/keywords/nyt_per\">Bonney, William</category>\n",
       "<category domain=\"http://www.nytimes.com/namespaces/keywords/des\">Photography</category>\n",
       "<category domain=\"http://www.nytimes.com/namespaces/keywords/nyt_geo\">North Carolina</category>\n",
       "<category domain=\"http://www.nytimes.com/namespaces/keywords/des\">Flea Markets</category>\n",
       "<category domain=\"http://www.nytimes.com/namespaces/keywords/des\">Murders, Attempted Murders and Homicides</category>\n",
       "<category domain=\"http://www.nytimes.com/namespaces/keywords/nyt_geo\">New Mexico</category>\n",
       "</item>\n",
       "<item>\n",
       "<title>Ben Shapiro, a Provocative ‘Gladiator,’ Battles to Win Young Conservatives</title>\n",
       "<link>https://www.nytimes.com/2017/11/23/us/ben-shapiro-conservative.html?partner=rss&amp;emc=rss</link>\n",
       "<guid isPermaLink=\"true\">https://www.nytimes.com/2017/11/23/us/ben-shapiro-conservative.html</guid>\n",
       "<atom:link href=\"https://www.nytimes.com/2017/11/23/us/ben-shapiro-conservative.html?partner=rss&amp;emc=rss\" rel=\"standout\"/>\n",
       "<media:content height=\"151\" medium=\"image\" url=\"https://static01.nyt.com/images/2017/11/24/us/24shapiro1/00shapiro-01-moth.jpg\" width=\"151\"/>\n",
       "<media:description>Ben Shapiro, right, arrived at the University of Utah in September to give a talk for a conservative student group.</media:description>\n",
       "<media:credit>Pool photo by Leah Hogsten</media:credit>\n",
       "<description>Ben Shapiro, who has been called the voice of the conservative millennial movement, is trying to define conservatism at a time when its meaning is up for grabs.</description>\n",
       "<dc:creator>SABRINA TAVERNISE</dc:creator>\n",
       "<pubDate>Fri, 24 Nov 2017 14:40:08 GMT</pubDate>\n",
       "<category domain=\"http://www.nytimes.com/namespaces/keywords/nyt_per\">Shapiro, Benjamin A (1984- )</category>\n",
       "<category domain=\"http://www.nytimes.com/namespaces/keywords/nyt_org_all\">The Daily Wire</category>\n",
       "<category domain=\"http://www.nytimes.com/namespaces/keywords/des\">Conservatism (US Politics)</category>\n",
       "<category domain=\"http://www.nytimes.com/namespaces/keywords/mdes\">Millennial Generation</category>\n",
       "<category domain=\"http://www.nytimes.com/namespaces/keywords/nyt_per\">Bannon, Stephen K</category>\n",
       "<category domain=\"http://www.nytimes.com/namespaces/keywords/nyt_per\">Yiannopoulos, Milo</category>\n",
       "<category domain=\"http://www.nytimes.com/namespaces/keywords/des\">United States Politics and Government</category>\n",
       "</item>\n",
       "<item>\n",
       "<title>Thanksgiving for Native Americans: Four Voices on a Complicated Holiday</title>\n",
       "<link>https://www.nytimes.com/2017/11/23/us/thanksgiving-for-native-americans-four-voices-on-a-complicated-holiday.html?partner=rss&amp;emc=rss</link>\n",
       "<guid isPermaLink=\"true\">https://www.nytimes.com/2017/11/23/us/thanksgiving-for-native-americans-four-voices-on-a-complicated-holiday.html</guid>\n",
       "<atom:link href=\"https://www.nytimes.com/2017/11/23/us/thanksgiving-for-native-americans-four-voices-on-a-complicated-holiday.html?partner=rss&amp;emc=rss\" rel=\"standout\"/>\n",
       "<media:content height=\"151\" medium=\"image\" url=\"https://static01.nyt.com/images/2017/11/23/us/23native/23native-moth.jpg\" width=\"151\"/>\n",
       "<media:description>Sherman Alexie in Seattle. “You take the holiday and make it yours,” he said of Thanksgiving. “That doesn’t strip it of its original meaning or its context.”</media:description>\n",
       "<media:credit>Ian C. Bates for The New York Times</media:credit>\n",
       "<description>A day of celebration and overeating is for some a time of mourning and a testament to the strength of a culture.</description>\n",
       "<dc:creator>JULIE TURKEWITZ</dc:creator>\n",
       "<pubDate>Thu, 23 Nov 2017 10:00:24 GMT</pubDate>\n",
       "<category domain=\"http://www.nytimes.com/namespaces/keywords/des\">Native Americans</category>\n",
       "<category domain=\"http://www.nytimes.com/namespaces/keywords/des\">Thanksgiving Day</category>\n",
       "<category domain=\"http://www.nytimes.com/namespaces/keywords/nyt_per\">Alexie, Sherman</category>\n",
       "<category domain=\"http://www.nytimes.com/namespaces/keywords/nyt_per\">LaDuke, Winona</category>\n",
       "<category domain=\"http://www.nytimes.com/namespaces/keywords/nyt_per\">Keeler, Jacqueline</category>\n",
       "<category domain=\"http://www.nytimes.com/namespaces/keywords/nyt_per\">Moya-Smith, Simon</category>\n",
       "</item>\n",
       "<item>\n",
       "<title>What Is Net Neutrality?</title>\n",
       "<link>https://www.nytimes.com/video/us/100000005564560/what-is-net-neutrality.html?partner=rss&amp;emc=rss</link>\n",
       "<guid isPermaLink=\"true\">https://www.nytimes.com/video/us/100000005564560/what-is-net-neutrality.html</guid>\n",
       "<description>The F.C.C. is set to dismantle net neutrality rules that require internet providers to give consumers equal access to all content online. Here’s how net neutrality works.</description>\n",
       "<dc:creator/>\n",
       "<pubDate>Tue, 21 Nov 2017 19:18:56 GMT</pubDate>\n",
       "<category domain=\"http://www.nytimes.com/namespaces/des\">Net Neutrality</category>\n",
       "<category domain=\"http://www.nytimes.com/namespaces/des\">Computers and the Internet</category>\n",
       "<category domain=\"http://www.nytimes.com/namespaces/nyt_org_all\">Federal Communications Commission</category>\n",
       "</item>\n",
       "<item>\n",
       "<title>After ‘So Much Sadness,’ What Is There to Be Thankful For?</title>\n",
       "<link>https://www.nytimes.com/2017/11/22/us/sutherland-springs-vegas-shooting-hurricanes.html?partner=rss&amp;emc=rss</link>\n",
       "<guid isPermaLink=\"true\">https://www.nytimes.com/2017/11/22/us/sutherland-springs-vegas-shooting-hurricanes.html</guid>\n",
       "<atom:link href=\"https://www.nytimes.com/2017/11/22/us/sutherland-springs-vegas-shooting-hurricanes.html?partner=rss&amp;emc=rss\" rel=\"standout\"/>\n",
       "<media:content height=\"151\" medium=\"image\" url=\"https://static01.nyt.com/images/2017/11/22/us/22thankful1/22thankful1-moth.jpg\" width=\"151\"/>\n",
       "<media:description>Sisters displaced during Hurricane Harvey drew pictures at their temporary home in Texas.</media:description>\n",
       "<media:credit>Annie Mulligan for The New York Times</media:credit>\n",
       "<description>For many families across an America battered by wildfires, hurricanes and mass shootings, this Thanksgiving is the first major holiday since life was ripped apart.</description>\n",
       "<dc:creator>JACK HEALY and JULIE TURKEWITZ</dc:creator>\n",
       "<pubDate>Wed, 22 Nov 2017 16:58:48 GMT</pubDate>\n",
       "<category domain=\"http://www.nytimes.com/namespaces/keywords/des\">Thanksgiving Day</category>\n",
       "<category domain=\"http://www.nytimes.com/namespaces/keywords/mdes\">Sutherland Springs, Tex, Shooting (2017)</category>\n",
       "<category domain=\"http://www.nytimes.com/namespaces/keywords/des\">Las Vegas, Nev, Shooting (October, 2017)</category>\n",
       "<category domain=\"http://www.nytimes.com/namespaces/keywords/mdes\">Hurricane Maria (2017)</category>\n",
       "<category domain=\"http://www.nytimes.com/namespaces/keywords/mdes\">Puerto Ricans</category>\n",
       "<category domain=\"http://www.nytimes.com/namespaces/keywords/des\">Hurricane Harvey (2017)</category>\n",
       "<category domain=\"http://www.nytimes.com/namespaces/keywords/mdes\">Wildfires</category>\n",
       "</item>\n",
       "<item>\n",
       "<title>Egypt, Michael Flynn, Argentina: Your Evening Briefing</title>\n",
       "<link>https://www.nytimes.com/2017/11/24/briefing/your-evening-briefing-egypt-michael-flynn-argentina.html?partner=rss&amp;emc=rss</link>\n",
       "<guid isPermaLink=\"true\">https://www.nytimes.com/2017/11/24/briefing/your-evening-briefing-egypt-michael-flynn-argentina.html</guid>\n",
       "<atom:link href=\"https://www.nytimes.com/2017/11/24/briefing/your-evening-briefing-egypt-michael-flynn-argentina.html?partner=rss&amp;emc=rss\" rel=\"standout\"/>\n",
       "<media:content height=\"151\" medium=\"image\" url=\"https://static01.nyt.com/images/2017/11/24/briefing/24evening-ss-slide-M85I/24evening-ss-slide-M85I-moth.jpg\" width=\"151\"/>\n",
       "<media:description/>\n",
       "<media:credit>European Pressphoto Agency</media:credit>\n",
       "<description>Here’s what you need to know at the end of the day.</description>\n",
       "<dc:creator>PENN BULLOCK and SANDRA STEVENSON</dc:creator>\n",
       "<pubDate>Fri, 24 Nov 2017 23:37:39 GMT</pubDate>\n",
       "</item>\n",
       "<item>\n",
       "<title>Why ‘Made in America’ Is Stitched Into the Law, but Not the Uniforms</title>\n",
       "<link>https://www.nytimes.com/2017/11/24/us/politics/secret-service-uniforms-mexico-trump-trade.html?partner=rss&amp;emc=rss</link>\n",
       "<guid isPermaLink=\"true\">https://www.nytimes.com/2017/11/24/us/politics/secret-service-uniforms-mexico-trump-trade.html</guid>\n",
       "<atom:link href=\"https://www.nytimes.com/2017/11/24/us/politics/secret-service-uniforms-mexico-trump-trade.html?partner=rss&amp;emc=rss\" rel=\"standout\"/>\n",
       "<media:content height=\"151\" medium=\"image\" url=\"https://static01.nyt.com/images/2017/11/25/business/25DC-UNIFORM1/25DC-UNIFORM1-moth.jpg\" width=\"151\"/>\n",
       "<media:description>More Transportation Security Administration uniforms have been made in Mexico in recent years than in the United States, despite rules requiring the Department of Homeland Security to “buy American.”</media:description>\n",
       "<media:credit>David Mcnew/Getty Images</media:credit>\n",
       "<description>The case of Secret Service and other federal uniforms shows just how difficult President Trump’s push to “buy American” is to implement in an age of global trade.</description>\n",
       "<dc:creator>ANA SWANSON</dc:creator>\n",
       "<pubDate>Fri, 24 Nov 2017 20:06:49 GMT</pubDate>\n",
       "<category domain=\"http://www.nytimes.com/namespaces/keywords/des\">United States Politics and Government</category>\n",
       "<category domain=\"http://www.nytimes.com/namespaces/keywords/des\">Government Contracts and Procurement</category>\n",
       "<category domain=\"http://www.nytimes.com/namespaces/keywords/mdes\">Uniforms</category>\n",
       "<category domain=\"http://www.nytimes.com/namespaces/keywords/nyt_per\">Trump, Donald J</category>\n",
       "<category domain=\"http://www.nytimes.com/namespaces/keywords/nyt_org_all\">Secret Service</category>\n",
       "<category domain=\"http://www.nytimes.com/namespaces/keywords/mdes\">Executive Orders and Memorandums</category>\n",
       "<category domain=\"http://www.nytimes.com/namespaces/keywords/nyt_org_all\">Homeland Security Department</category>\n",
       "</item>\n",
       "<item>\n",
       "<title>Hacks That Help: Using Tech to Fight Child Exploitation</title>\n",
       "<link>https://www.nytimes.com/2017/11/24/style/sex-trafficking-hackathon.html?partner=rss&amp;emc=rss</link>\n",
       "<guid isPermaLink=\"true\">https://www.nytimes.com/2017/11/24/style/sex-trafficking-hackathon.html</guid>\n",
       "<atom:link href=\"https://www.nytimes.com/2017/11/24/style/sex-trafficking-hackathon.html?partner=rss&amp;emc=rss\" rel=\"standout\"/>\n",
       "<media:content height=\"151\" medium=\"image\" url=\"https://static01.nyt.com/images/2017/11/26/fashion/26HACKATHON-1/26HACKATHON-1-moth.jpg\" width=\"151\"/>\n",
       "<media:description>Ashton Kutcher at the Thorn hackathon in New York.</media:description>\n",
       "<media:credit>Danny Ghitis for The New York Times</media:credit>\n",
       "<description>Thorn, a nonprofit founded by Demi Moore and Ashton Kutcher, helps law enforcement agencies sort through sex listings.</description>\n",
       "<dc:creator>TARIRO MZEZEWA</dc:creator>\n",
       "<pubDate>Fri, 24 Nov 2017 19:27:41 GMT</pubDate>\n",
       "<category domain=\"http://www.nytimes.com/namespaces/keywords/des\">Child Abuse and Neglect</category>\n",
       "<category domain=\"http://www.nytimes.com/namespaces/keywords/des\">Human Trafficking</category>\n",
       "<category domain=\"http://www.nytimes.com/namespaces/keywords/nyt_per\">Kutcher, Ashton</category>\n",
       "<category domain=\"http://www.nytimes.com/namespaces/keywords/des\">Computers and the Internet</category>\n",
       "</item>\n",
       "<item>\n",
       "<title> The New Old Age: Older Voters Stymied by Tighter ID Requirements</title>\n",
       "<link>https://www.nytimes.com/2017/11/24/health/voting-eligibility-elderly.html?partner=rss&amp;emc=rss</link>\n",
       "<guid isPermaLink=\"true\">https://www.nytimes.com/2017/11/24/health/voting-eligibility-elderly.html</guid>\n",
       "<atom:link href=\"https://www.nytimes.com/2017/11/24/health/voting-eligibility-elderly.html?partner=rss&amp;emc=rss\" rel=\"standout\"/>\n",
       "<media:content height=\"151\" medium=\"image\" url=\"https://static01.nyt.com/images/2017/11/28/health/28SCI-SPAN/28SCI-SPAN-moth-v2.jpg\" width=\"151\"/>\n",
       "<media:description/>\n",
       "<media:credit>Joyce Hesselberth</media:credit>\n",
       "<description>Restrictive eligibility rules have kept older citizens from the voting booth, experts say.</description>\n",
       "<dc:creator>PAULA SPAN</dc:creator>\n",
       "<pubDate>Fri, 24 Nov 2017 18:52:38 GMT</pubDate>\n",
       "<category domain=\"http://www.nytimes.com/namespaces/keywords/des\">Voter Registration and Requirements</category>\n",
       "<category domain=\"http://www.nytimes.com/namespaces/keywords/des\">Drivers Licenses</category>\n",
       "<category domain=\"http://www.nytimes.com/namespaces/keywords/des\">Voting Rights Act (1965)</category>\n",
       "<category domain=\"http://www.nytimes.com/namespaces/keywords/des\">Elderly</category>\n",
       "<category domain=\"http://www.nytimes.com/namespaces/keywords/mdes\">United States Politics and Government</category>\n",
       "<category domain=\"http://www.nytimes.com/namespaces/keywords/nyt_org_all\">Brennan Center for Justice</category>\n",
       "</item>\n",
       "<item>\n",
       "<title>Six Democrats From Outside Washington Have a Message for Their Party</title>\n",
       "<link>https://www.nytimes.com/2017/11/24/us/politics/democratic-party.html?partner=rss&amp;emc=rss</link>\n",
       "<guid isPermaLink=\"true\">https://www.nytimes.com/2017/11/24/us/politics/democratic-party.html</guid>\n",
       "<atom:link href=\"https://www.nytimes.com/2017/11/24/us/politics/democratic-party.html?partner=rss&amp;emc=rss\" rel=\"standout\"/>\n",
       "<media:content height=\"151\" medium=\"image\" url=\"https://static01.nyt.com/images/2017/11/19/us/politics/19dc-demvoices-promo/19dc-demvoices-promo-moth.jpg\" width=\"151\"/>\n",
       "<media:description/>\n",
       "<media:credit>Dominick Reuter/Reuters</media:credit>\n",
       "<description>We looked outside the nation’s capital to ask leaders in states and cities to offer their vision for reconnecting with voters.</description>\n",
       "<dc:creator>MICHAEL TACKETT</dc:creator>\n",
       "<pubDate>Fri, 24 Nov 2017 13:22:34 GMT</pubDate>\n",
       "<category domain=\"http://www.nytimes.com/namespaces/keywords/mdes\">United States Politics and Government</category>\n",
       "<category domain=\"http://www.nytimes.com/namespaces/keywords/nyt_org_all\">Democratic Party</category>\n",
       "</item>\n",
       "<item>\n",
       "<title>Michael Flynn, Oscar Pistorius, Black Friday: Your Friday Briefing</title>\n",
       "<link>https://www.nytimes.com/2017/11/24/briefing/michael-flynn-oscar-pistorius-black-friday.html?partner=rss&amp;emc=rss</link>\n",
       "<guid isPermaLink=\"true\">https://www.nytimes.com/2017/11/24/briefing/michael-flynn-oscar-pistorius-black-friday.html</guid>\n",
       "<atom:link href=\"https://www.nytimes.com/2017/11/24/briefing/michael-flynn-oscar-pistorius-black-friday.html?partner=rss&amp;emc=rss\" rel=\"standout\"/>\n",
       "<media:content height=\"151\" medium=\"image\" url=\"https://static01.nyt.com/images/2017/11/25/world/24US-Ambriefing-blackfriday/24US-Ambriefing-blackfriday-moth.jpg\" width=\"151\"/>\n",
       "<media:description>Black Friday has become a phenomenon even in countries not marking a Thanksgiving holiday. These shoppers were competing to purchase television sets in São Paulo, Brazil.</media:description>\n",
       "<media:credit>Paulo Whitaker/Reuters</media:credit>\n",
       "<description>Here’s what you need to know to start your day.</description>\n",
       "<dc:creator>CHRIS STANFORD</dc:creator>\n",
       "<pubDate>Fri, 24 Nov 2017 16:37:06 GMT</pubDate>\n",
       "</item>\n",
       "<item>\n",
       "<title>Why Tobacco Companies Are Paying to Tell You Smoking Kills</title>\n",
       "<link>https://www.nytimes.com/2017/11/24/business/media/tobacco-companies-ads.html?partner=rss&amp;emc=rss</link>\n",
       "<guid isPermaLink=\"true\">https://www.nytimes.com/2017/11/24/business/media/tobacco-companies-ads.html</guid>\n",
       "<atom:link href=\"https://www.nytimes.com/2017/11/24/business/media/tobacco-companies-ads.html?partner=rss&amp;emc=rss\" rel=\"standout\"/>\n",
       "<media:content height=\"151\" medium=\"image\" url=\"https://static01.nyt.com/images/2017/11/25/business/25TOBACCOADS1/25TOBACCOADS1-moth.jpg\" width=\"151\"/>\n",
       "<media:description>A billboard ad for Marlboro cigarettes in Atlanta in 1995. Tobacco companies were ordered in 2006 to disseminate “corrective statements” about the health risks and addictive nature of smoking.</media:description>\n",
       "<media:credit>Richard Baker/Getty Images</media:credit>\n",
       "<description>Court-ordered ads, which will start appearing on Sunday, are “corrective statements” about the health risks and addictive nature of smoking.</description>\n",
       "<dc:creator>SAPNA MAHESHWARI</dc:creator>\n",
       "<pubDate>Fri, 24 Nov 2017 10:00:01 GMT</pubDate>\n",
       "<category domain=\"http://www.nytimes.com/namespaces/keywords/des\">Smoking and Tobacco</category>\n",
       "<category domain=\"http://www.nytimes.com/namespaces/keywords/des\">Advertising and Marketing</category>\n",
       "<category domain=\"http://www.nytimes.com/namespaces/keywords/nyt_org_all\">Altria Group Inc</category>\n",
       "<category domain=\"http://www.nytimes.com/namespaces/keywords/nyt_org_all\">Philip Morris Companies Inc</category>\n",
       "<category domain=\"http://www.nytimes.com/namespaces/keywords/nyt_org_all\">Reynolds, R J, Tobacco Co</category>\n",
       "<category domain=\"http://www.nytimes.com/namespaces/keywords/nyt_org_all\">Lorillard Tobacco Co</category>\n",
       "</item>\n",
       "<item>\n",
       "<title>A Mar-a-Lago Thanksgiving: It’s All Gravy</title>\n",
       "<link>https://www.nytimes.com/2017/11/23/us/politics/trump-mar-a-lago-thanksgiving.html?partner=rss&amp;emc=rss</link>\n",
       "<guid isPermaLink=\"true\">https://www.nytimes.com/2017/11/23/us/politics/trump-mar-a-lago-thanksgiving.html</guid>\n",
       "<atom:link href=\"https://www.nytimes.com/2017/11/23/us/politics/trump-mar-a-lago-thanksgiving.html?partner=rss&amp;emc=rss\" rel=\"standout\"/>\n",
       "<media:content height=\"151\" medium=\"image\" url=\"https://static01.nyt.com/images/2017/11/24/us/24dc-thanksgiving/24dc-thanksgiving-moth.jpg\" width=\"151\"/>\n",
       "<media:description>President Trump passed out sandwiches to members of the Coast Guard in Riviera Beach, Fla., on Thursday.</media:description>\n",
       "<media:credit>Al Drago for The New York Times</media:credit>\n",
       "<description>President Trump spent his holiday indulging in some of his favorite habits: spending time at his properties and talking about all the winning he’s doing.</description>\n",
       "<dc:creator>EMILY COCHRANE</dc:creator>\n",
       "<pubDate>Fri, 24 Nov 2017 01:36:01 GMT</pubDate>\n",
       "<category domain=\"http://www.nytimes.com/namespaces/keywords/nyt_per\">Trump, Donald J</category>\n",
       "<category domain=\"http://www.nytimes.com/namespaces/keywords/des\">Thanksgiving Day</category>\n",
       "<category domain=\"http://www.nytimes.com/namespaces/keywords/nyt_org_all\">Mar-a-Lago (Palm Beach, Fla)</category>\n",
       "<category domain=\"http://www.nytimes.com/namespaces/keywords/des\">United States Defense and Military Forces</category>\n",
       "<category domain=\"http://www.nytimes.com/namespaces/keywords/des\">United States Politics and Government</category>\n",
       "</item>\n",
       "</channel>\n",
       "</rss>"
      ]
     },
     "execution_count": 8,
     "metadata": {},
     "output_type": "execute_result"
    }
   ],
   "source": [
    "soup"
   ]
  },
  {
   "cell_type": "code",
   "execution_count": 9,
   "metadata": {
    "collapsed": true
   },
   "outputs": [],
   "source": [
    "categoryList = soup.select('category')"
   ]
  },
  {
   "cell_type": "code",
   "execution_count": 13,
   "metadata": {
    "collapsed": false
   },
   "outputs": [
    {
     "data": {
      "text/plain": [
       "<category domain=\"http://www.nytimes.com/namespaces/keywords/nyt_geo\">Vallejo (Calif)</category>"
      ]
     },
     "execution_count": 13,
     "metadata": {},
     "output_type": "execute_result"
    }
   ],
   "source": [
    "categoryList[0]"
   ]
  },
  {
   "cell_type": "code",
   "execution_count": 14,
   "metadata": {
    "collapsed": false
   },
   "outputs": [
    {
     "data": {
      "text/plain": [
       "'Vallejo (Calif)'"
      ]
     },
     "execution_count": 14,
     "metadata": {},
     "output_type": "execute_result"
    }
   ],
   "source": [
    "categoryList[0].text"
   ]
  },
  {
   "cell_type": "code",
   "execution_count": 15,
   "metadata": {
    "collapsed": true
   },
   "outputs": [],
   "source": [
    "categoryText = list()"
   ]
  },
  {
   "cell_type": "code",
   "execution_count": 18,
   "metadata": {
    "collapsed": false
   },
   "outputs": [],
   "source": [
    "for i in categoryList:\n",
    "    categoryText.append(i.text)"
   ]
  },
  {
   "cell_type": "code",
   "execution_count": 19,
   "metadata": {
    "collapsed": false
   },
   "outputs": [
    {
     "data": {
      "text/plain": [
       "['Vallejo (Calif)',\n",
       " 'Discrimination',\n",
       " 'Minorities',\n",
       " 'Blacks',\n",
       " 'Whites',\n",
       " 'Hispanic-Americans',\n",
       " 'Asian-Americans',\n",
       " 'Vallejo (Calif)',\n",
       " 'Discrimination',\n",
       " 'Blacks',\n",
       " 'Hispanic-Americans',\n",
       " 'Asian-Americans',\n",
       " 'Race and Ethnicity',\n",
       " 'Diversity',\n",
       " 'Water Pollution',\n",
       " 'Wolverine Worldwide Inc',\n",
       " 'Michigan',\n",
       " 'Waste Materials and Disposal',\n",
       " 'Bonney, William',\n",
       " 'Photography',\n",
       " 'North Carolina',\n",
       " 'Flea Markets',\n",
       " 'Murders, Attempted Murders and Homicides',\n",
       " 'New Mexico',\n",
       " 'Shapiro, Benjamin A (1984- )',\n",
       " 'The Daily Wire',\n",
       " 'Conservatism (US Politics)',\n",
       " 'Millennial Generation',\n",
       " 'Bannon, Stephen K',\n",
       " 'Yiannopoulos, Milo',\n",
       " 'United States Politics and Government',\n",
       " 'Native Americans',\n",
       " 'Thanksgiving Day',\n",
       " 'Alexie, Sherman',\n",
       " 'LaDuke, Winona',\n",
       " 'Keeler, Jacqueline',\n",
       " 'Moya-Smith, Simon',\n",
       " 'Net Neutrality',\n",
       " 'Computers and the Internet',\n",
       " 'Federal Communications Commission',\n",
       " 'Thanksgiving Day',\n",
       " 'Sutherland Springs, Tex, Shooting (2017)',\n",
       " 'Las Vegas, Nev, Shooting (October, 2017)',\n",
       " 'Hurricane Maria (2017)',\n",
       " 'Puerto Ricans',\n",
       " 'Hurricane Harvey (2017)',\n",
       " 'Wildfires',\n",
       " 'United States Politics and Government',\n",
       " 'Government Contracts and Procurement',\n",
       " 'Uniforms',\n",
       " 'Trump, Donald J',\n",
       " 'Secret Service',\n",
       " 'Executive Orders and Memorandums',\n",
       " 'Homeland Security Department',\n",
       " 'Child Abuse and Neglect',\n",
       " 'Human Trafficking',\n",
       " 'Kutcher, Ashton',\n",
       " 'Computers and the Internet',\n",
       " 'Voter Registration and Requirements',\n",
       " 'Drivers Licenses',\n",
       " 'Voting Rights Act (1965)',\n",
       " 'Elderly',\n",
       " 'United States Politics and Government',\n",
       " 'Brennan Center for Justice',\n",
       " 'United States Politics and Government',\n",
       " 'Democratic Party',\n",
       " 'Smoking and Tobacco',\n",
       " 'Advertising and Marketing',\n",
       " 'Altria Group Inc',\n",
       " 'Philip Morris Companies Inc',\n",
       " 'Reynolds, R J, Tobacco Co',\n",
       " 'Lorillard Tobacco Co',\n",
       " 'Trump, Donald J',\n",
       " 'Thanksgiving Day',\n",
       " 'Mar-a-Lago (Palm Beach, Fla)',\n",
       " 'United States Defense and Military Forces',\n",
       " 'United States Politics and Government']"
      ]
     },
     "execution_count": 19,
     "metadata": {},
     "output_type": "execute_result"
    }
   ],
   "source": [
    "categoryText"
   ]
  },
  {
   "cell_type": "code",
   "execution_count": 21,
   "metadata": {
    "collapsed": true
   },
   "outputs": [],
   "source": [
    "catDict = dict()"
   ]
  },
  {
   "cell_type": "code",
   "execution_count": 22,
   "metadata": {
    "collapsed": true
   },
   "outputs": [],
   "source": [
    "for i in categoryText:\n",
    "    if i not in catDict:\n",
    "        catDict[i] = 1\n",
    "    else:\n",
    "        catDict[i] += 1"
   ]
  },
  {
   "cell_type": "code",
   "execution_count": 26,
   "metadata": {
    "collapsed": false
   },
   "outputs": [
    {
     "data": {
      "text/plain": [
       "{1, 2, 3, 5}"
      ]
     },
     "execution_count": 26,
     "metadata": {},
     "output_type": "execute_result"
    }
   ],
   "source": [
    "set(catDict.values())"
   ]
  },
  {
   "cell_type": "code",
   "execution_count": 39,
   "metadata": {
    "collapsed": false
   },
   "outputs": [],
   "source": [
    "nytCategory = open('nyt-categories.txt', 'w')"
   ]
  },
  {
   "cell_type": "code",
   "execution_count": 40,
   "metadata": {
    "collapsed": false
   },
   "outputs": [],
   "source": [
    "for i in categoryText:\n",
    "    nytCategory.write('{}\\n'.format(i))"
   ]
  },
  {
   "cell_type": "code",
   "execution_count": 41,
   "metadata": {
    "collapsed": true
   },
   "outputs": [],
   "source": [
    "nytCategory.close()"
   ]
  },
  {
   "cell_type": "code",
   "execution_count": null,
   "metadata": {
    "collapsed": true
   },
   "outputs": [],
   "source": []
  }
 ],
 "metadata": {
  "kernelspec": {
   "display_name": "Python 3",
   "language": "python",
   "name": "python3"
  },
  "language_info": {
   "codemirror_mode": {
    "name": "ipython",
    "version": 3
   },
   "file_extension": ".py",
   "mimetype": "text/x-python",
   "name": "python",
   "nbconvert_exporter": "python",
   "pygments_lexer": "ipython3",
   "version": "3.6.0"
  }
 },
 "nbformat": 4,
 "nbformat_minor": 2
}
